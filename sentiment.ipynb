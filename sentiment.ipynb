{
  "cells": [
    {
      "cell_type": "code",
      "source": [
        "import pandas as pd\n",
        "\n",
        "keywords_by_sentiment = {\n",
        "    2: [\"rất tốt\",\"tài\",\"cao\",\"giỏi\", \"tốt\", \"xuất sắc\", \"đáng khen\", \"hiệu quả\", \"tích cực\", \"nhiệt tình\", \"chủ động\"],\n",
        "    1: [\"tạm ổn\", \"chưa ổn định\", \"cũng được\", \"ở mức chấp nhận được\", \"bình thường\", \"trung bình\", \"đôi lúc tốt\", \"không rõ ràng\"],\n",
        "    0: [\"tệ\", \"tồi\",\"thấp\", \"lười\",\"kém\", \"thiếu trách nhiệm\", \"không tốt\", \"rất kém\", \"bị phàn nàn\", \"tiêu cực\"]\n",
        "}\n",
        "\n",
        "prefix_phrases = [\n",
        "    \"Thái độ\", \"Hiệu suất\", \"Cách làm việc\", \"Tinh thần\", \"Chất lượng công việc\",\n",
        "    \"Phản hồi\", \"Ý thức\", \"Tác phong\", \"Thói quen làm việc\", \"Kết quả thực hiện\"\n",
        "]\n",
        "\n",
        "context_phrases = [\n",
        "    \"trong công việc\", \"trong quá trình xử lý\", \"khi làm nhóm\", \"khi thực hiện dự án\",\n",
        "    \"trong môi trường áp lực\", \"ở giai đoạn thử việc\", \"khi giao tiếp với đồng nghiệp\",\n",
        "    \"trong thời gian gần đây\", \"khi được giao nhiệm vụ\", \"với khách hàng\"\n",
        "]\n",
        "\n",
        "rows = []\n",
        "seen = set()\n",
        "start_id = 30000\n",
        "\n",
        "for sentiment, keywords in keywords_by_sentiment.items():\n",
        "    for prefix in prefix_phrases:\n",
        "        for keyword in keywords:\n",
        "            for context in context_phrases:\n",
        "                sentence = f\"{prefix} {keyword} {context}\"\n",
        "                if sentence not in seen:\n",
        "                    rows.append({\n",
        "                        \"ID\": f\"gen_{start_id + len(rows)}\",\n",
        "                        \"comment\": sentence,\n",
        "                        \"sentiment\": sentiment\n",
        "                    })\n",
        "                    seen.add(sentence)\n",
        "\n",
        "df = pd.DataFrame(rows)\n",
        "df.to_csv(\"sentiment_data.csv\", index=False, encoding=\"utf-8\")\n",
        "print(f\"Tạo thành công {len(df)} dòng.\")\n"
      ],
      "metadata": {
        "colab": {
          "base_uri": "https://localhost:8080/"
        },
        "id": "cLNqQYsJGjE1",
        "outputId": "5ad02b0e-6126-4dc4-a130-eab000cb01c3"
      },
      "execution_count": 2,
      "outputs": [
        {
          "output_type": "stream",
          "name": "stdout",
          "text": [
            "Tạo thành công 2900 dòng.\n"
          ]
        }
      ]
    },
    {
      "cell_type": "code",
      "source": [
        "!pip install underthesea flask pyngrok scikit-learn pandas requests"
      ],
      "metadata": {
        "colab": {
          "base_uri": "https://localhost:8080/"
        },
        "id": "y7POKmEyKI3L",
        "outputId": "d234b6fa-32e2-4f7c-8712-f98f3551e1f5"
      },
      "execution_count": 4,
      "outputs": [
        {
          "output_type": "stream",
          "name": "stdout",
          "text": [
            "Collecting underthesea\n",
            "  Downloading underthesea-6.8.4-py3-none-any.whl.metadata (15 kB)\n",
            "Requirement already satisfied: flask in /usr/local/lib/python3.11/dist-packages (3.1.1)\n",
            "Collecting pyngrok\n",
            "  Downloading pyngrok-7.2.11-py3-none-any.whl.metadata (9.4 kB)\n",
            "Requirement already satisfied: scikit-learn in /usr/local/lib/python3.11/dist-packages (1.6.1)\n",
            "Requirement already satisfied: pandas in /usr/local/lib/python3.11/dist-packages (2.2.2)\n",
            "Requirement already satisfied: requests in /usr/local/lib/python3.11/dist-packages (2.32.3)\n",
            "Requirement already satisfied: Click>=6.0 in /usr/local/lib/python3.11/dist-packages (from underthesea) (8.2.1)\n",
            "Collecting python-crfsuite>=0.9.6 (from underthesea)\n",
            "  Downloading python_crfsuite-0.9.11-cp311-cp311-manylinux_2_17_x86_64.manylinux2014_x86_64.whl.metadata (4.3 kB)\n",
            "Requirement already satisfied: nltk in /usr/local/lib/python3.11/dist-packages (from underthesea) (3.9.1)\n",
            "Requirement already satisfied: tqdm in /usr/local/lib/python3.11/dist-packages (from underthesea) (4.67.1)\n",
            "Requirement already satisfied: joblib in /usr/local/lib/python3.11/dist-packages (from underthesea) (1.5.1)\n",
            "Requirement already satisfied: PyYAML in /usr/local/lib/python3.11/dist-packages (from underthesea) (6.0.2)\n",
            "Collecting underthesea-core==1.0.4 (from underthesea)\n",
            "  Downloading underthesea_core-1.0.4-cp311-cp311-manylinux2010_x86_64.whl.metadata (1.7 kB)\n",
            "Requirement already satisfied: blinker>=1.9.0 in /usr/local/lib/python3.11/dist-packages (from flask) (1.9.0)\n",
            "Requirement already satisfied: itsdangerous>=2.2.0 in /usr/local/lib/python3.11/dist-packages (from flask) (2.2.0)\n",
            "Requirement already satisfied: jinja2>=3.1.2 in /usr/local/lib/python3.11/dist-packages (from flask) (3.1.6)\n",
            "Requirement already satisfied: markupsafe>=2.1.1 in /usr/local/lib/python3.11/dist-packages (from flask) (3.0.2)\n",
            "Requirement already satisfied: werkzeug>=3.1.0 in /usr/local/lib/python3.11/dist-packages (from flask) (3.1.3)\n",
            "Requirement already satisfied: numpy>=1.19.5 in /usr/local/lib/python3.11/dist-packages (from scikit-learn) (2.0.2)\n",
            "Requirement already satisfied: scipy>=1.6.0 in /usr/local/lib/python3.11/dist-packages (from scikit-learn) (1.15.3)\n",
            "Requirement already satisfied: threadpoolctl>=3.1.0 in /usr/local/lib/python3.11/dist-packages (from scikit-learn) (3.6.0)\n",
            "Requirement already satisfied: python-dateutil>=2.8.2 in /usr/local/lib/python3.11/dist-packages (from pandas) (2.9.0.post0)\n",
            "Requirement already satisfied: pytz>=2020.1 in /usr/local/lib/python3.11/dist-packages (from pandas) (2025.2)\n",
            "Requirement already satisfied: tzdata>=2022.7 in /usr/local/lib/python3.11/dist-packages (from pandas) (2025.2)\n",
            "Requirement already satisfied: charset-normalizer<4,>=2 in /usr/local/lib/python3.11/dist-packages (from requests) (3.4.2)\n",
            "Requirement already satisfied: idna<4,>=2.5 in /usr/local/lib/python3.11/dist-packages (from requests) (3.10)\n",
            "Requirement already satisfied: urllib3<3,>=1.21.1 in /usr/local/lib/python3.11/dist-packages (from requests) (2.4.0)\n",
            "Requirement already satisfied: certifi>=2017.4.17 in /usr/local/lib/python3.11/dist-packages (from requests) (2025.6.15)\n",
            "Requirement already satisfied: six>=1.5 in /usr/local/lib/python3.11/dist-packages (from python-dateutil>=2.8.2->pandas) (1.17.0)\n",
            "Requirement already satisfied: regex>=2021.8.3 in /usr/local/lib/python3.11/dist-packages (from nltk->underthesea) (2024.11.6)\n",
            "Downloading underthesea-6.8.4-py3-none-any.whl (20.9 MB)\n",
            "\u001b[2K   \u001b[90m━━━━━━━━━━━━━━━━━━━━━━━━━━━━━━━━━━━━━━━━\u001b[0m \u001b[32m20.9/20.9 MB\u001b[0m \u001b[31m74.5 MB/s\u001b[0m eta \u001b[36m0:00:00\u001b[0m\n",
            "\u001b[?25hDownloading underthesea_core-1.0.4-cp311-cp311-manylinux2010_x86_64.whl (657 kB)\n",
            "\u001b[2K   \u001b[90m━━━━━━━━━━━━━━━━━━━━━━━━━━━━━━━━━━━━━━━━\u001b[0m \u001b[32m657.8/657.8 kB\u001b[0m \u001b[31m48.0 MB/s\u001b[0m eta \u001b[36m0:00:00\u001b[0m\n",
            "\u001b[?25hDownloading pyngrok-7.2.11-py3-none-any.whl (25 kB)\n",
            "Downloading python_crfsuite-0.9.11-cp311-cp311-manylinux_2_17_x86_64.manylinux2014_x86_64.whl (1.3 MB)\n",
            "\u001b[2K   \u001b[90m━━━━━━━━━━━━━━━━━━━━━━━━━━━━━━━━━━━━━━━━\u001b[0m \u001b[32m1.3/1.3 MB\u001b[0m \u001b[31m65.4 MB/s\u001b[0m eta \u001b[36m0:00:00\u001b[0m\n",
            "\u001b[?25hInstalling collected packages: underthesea-core, python-crfsuite, pyngrok, underthesea\n",
            "Successfully installed pyngrok-7.2.11 python-crfsuite-0.9.11 underthesea-6.8.4 underthesea-core-1.0.4\n"
          ]
        }
      ]
    },
    {
      "cell_type": "markdown",
      "source": [
        "# Mục mới"
      ],
      "metadata": {
        "id": "hiYtkMbmxpi1"
      }
    },
    {
      "cell_type": "markdown",
      "source": [
        "# Mục mới"
      ],
      "metadata": {
        "id": "o61Ug-9xxqh7"
      }
    },
    {
      "cell_type": "code",
      "source": [
        "from pyngrok import ngrok\n",
        "\n",
        "# Kill tất cả các tunnel đang chạy\n",
        "ngrok.kill()\n"
      ],
      "metadata": {
        "id": "LQ9HrRtP8fR4"
      },
      "execution_count": 5,
      "outputs": []
    },
    {
      "cell_type": "code",
      "source": [
        "import pandas as pd\n",
        "import re\n",
        "import underthesea\n",
        "from sklearn.feature_extraction.text import TfidfVectorizer\n",
        "from sklearn.naive_bayes import MultinomialNB\n",
        "import logging\n",
        "from flask import Flask, request, jsonify\n",
        "import threading\n",
        "from pyngrok import ngrok, conf\n",
        "import requests\n",
        "import json\n",
        "import numpy as np\n",
        "\n",
        "# Thiết lập logging\n",
        "logging.basicConfig(level=logging.INFO)\n",
        "logger = logging.getLogger(__name__)\n",
        "\n",
        "# Khởi tạo Flask app\n",
        "app = Flask(__name__)\n",
        "\n",
        "# Thiết lập ngrok authtoken\n",
        "NGROK_AUTH_TOKEN = \"2zcxV64269qISWB9CHZi57UIIo4_5yKJHM6ZvGiyTPqkUUg4o\"\n",
        "try:\n",
        "    conf.get_default().auth_token = NGROK_AUTH_TOKEN\n",
        "    print(\"Ngrok authtoken set successfully\")\n",
        "except Exception as e:\n",
        "    logger.error(f\"Error setting ngrok authtoken: {str(e)}\")\n",
        "    raise\n",
        "\n",
        "# Hàm tiền xử lý văn bản tiếng Việt\n",
        "def preprocess_text(text):\n",
        "    try:\n",
        "        text = text.lower()\n",
        "        text = re.sub(r'[^\\w\\s]', '', text)\n",
        "        text = underthesea.word_tokenize(text, format=\"text\")\n",
        "        return text\n",
        "    except Exception as e:\n",
        "        logger.error(f\"Error in preprocess_text: {str(e)}\")\n",
        "        return text\n",
        "\n",
        "# Tải và huấn luyện mô hình từ file CSV\n",
        "try:\n",
        "    # Đọc file CSV\n",
        "    train_data = pd.read_csv('sentiment_data.csv', encoding='utf-8')\n",
        "\n",
        "    # Kiểm tra dữ liệu\n",
        "    print(f\"Sample data: {train_data.head().to_dict()}\")\n",
        "    print(f\"Sentiment labels: {train_data['sentiment'].unique()}\")\n",
        "\n",
        "    # Tiền xử lý dữ liệu huấn luyện\n",
        "    train_data['text'] = train_data['comment'].apply(preprocess_text)\n",
        "\n",
        "    # Vector hóa và huấn luyện mô hình\n",
        "    vectorizer = TfidfVectorizer(max_features=5000)\n",
        "    X_train = vectorizer.fit_transform(train_data['text'])\n",
        "    y_train = train_data['sentiment']  # Sử dụng nhãn văn bản trực tiếp\n",
        "    model = MultinomialNB()\n",
        "    model.fit(X_train, y_train)\n",
        "    print(\"Naive Bayes model trained successfully\")\n",
        "except Exception as e:\n",
        "    logger.error(f\"Error in training model: {str(e)}\")\n",
        "    raise\n",
        "\n",
        "# Hàm phân tích cảm xúc\n",
        "def analyze_sentiment(text):\n",
        "    try:\n",
        "        processed_text = preprocess_text(text)\n",
        "        vectorized_text = vectorizer.transform([processed_text])\n",
        "        prediction = model.predict(vectorized_text)[0]\n",
        "        return str(prediction)\n",
        "    except Exception as e:\n",
        "        return \"-1\"\n",
        "\n",
        "# Route API để phân tích cảm xúc\n",
        "@app.route('/sentiment-analysis', methods=['POST'])\n",
        "def evaluate_employee():\n",
        "    try:\n",
        "        data = request.get_json()\n",
        "        if not data or 'comment' not in data:\n",
        "            logger.error(\"Invalid input:'comment' missing\")\n",
        "            return jsonify({'error': 'Dữ liệu đầu vào không hợp lệ, cần chứa \"comment\"'}), 400\n",
        "\n",
        "        comment = data['comment']\n",
        "\n",
        "        # Phân tích cảm xúc\n",
        "        sentimentRaw = int(analyze_sentiment(comment))  # chuyển về số nguyên\n",
        "        sentiment = \"\"\n",
        "        if sentimentRaw == 0:\n",
        "            sentiment = \"Chưa tốt\"\n",
        "        elif sentimentRaw == 1:\n",
        "            sentiment = \"Trung bình\"\n",
        "        elif sentimentRaw == 2:\n",
        "            sentiment = \"Tốt\"\n",
        "        else:\n",
        "            sentiment = \"Không xác định\"\n",
        "\n",
        "        # Tạo kết quả đầu ra\n",
        "        result = {\n",
        "            'sentiment': sentiment\n",
        "        }\n",
        "\n",
        "        print(f\"Sentiment analysis completed for sentiment: {sentiment}\")\n",
        "        return jsonify(result), 200\n",
        "    except Exception as e:\n",
        "        logger.error(f\"Error in evaluate_employee: {str(e)}\")\n",
        "        return jsonify({'error': str(e)}), 500\n",
        "\n",
        "# Hàm chạy Flask\n",
        "def run():\n",
        "    app.run(host='0.0.0.0', port=5555)\n",
        "\n",
        "# Tạo public URL và chạy\n",
        "try:\n",
        "    public_url = ngrok.connect(5555, bind_tls=True).public_url\n",
        "    print(f\"Ngrok URL: {public_url}\")\n",
        "except Exception as e:\n",
        "    logger.error(f\"Error starting ngrok: {str(e)}\")\n",
        "    raise\n",
        "\n",
        "# Khởi động Flask trong thread riêng\n",
        "thread = threading.Thread(target=run)\n",
        "thread.start()\n",
        "\n"
      ],
      "metadata": {
        "id": "nKBCkWyuJ9gf",
        "colab": {
          "base_uri": "https://localhost:8080/"
        },
        "outputId": "dcbec128-8dc6-40ab-f04f-4d4bf1e337f8"
      },
      "execution_count": 6,
      "outputs": [
        {
          "output_type": "stream",
          "name": "stdout",
          "text": [
            "Ngrok authtoken set successfully\n",
            "Sample data: {'ID': {0: 'gen_30000', 1: 'gen_30001', 2: 'gen_30002', 3: 'gen_30003', 4: 'gen_30004'}, 'comment': {0: 'Thái độ rất tốt trong công việc', 1: 'Thái độ rất tốt trong quá trình xử lý', 2: 'Thái độ rất tốt khi làm nhóm', 3: 'Thái độ rất tốt khi thực hiện dự án', 4: 'Thái độ rất tốt trong môi trường áp lực'}, 'sentiment': {0: 2, 1: 2, 2: 2, 3: 2, 4: 2}}\n",
            "Sentiment labels: [2 1 0]\n",
            "Naive Bayes model trained successfully\n",
            "Ngrok URL: https://da74df81321e.ngrok-free.app\n",
            " * Serving Flask app '__main__'\n",
            " * Debug mode: off\n"
          ]
        }
      ]
    },
    {
      "cell_type": "code",
      "source": [
        "import requests\n",
        "import json\n",
        "import logging\n",
        "\n",
        "# Thiết lập logging\n",
        "logging.basicConfig(level=logging.INFO)\n",
        "logger = logging.getLogger(__name__)\n",
        "\n",
        "# Test API\n",
        "try:\n",
        "    url = public_url + \"/sentiment-analysis\"\n",
        "    test_data = {\n",
        "        \"comment\": \"làm việc đạt năng suất cao\"\n",
        "    }\n",
        "    response = requests.post(url, json=test_data)\n",
        "\n",
        "    # Kiểm tra mã trạng thái HTTP\n",
        "    if response.status_code == 200:\n",
        "        print(json.dumps(response.json(), ensure_ascii=False, indent=2))\n",
        "    else:\n",
        "        logger.error(f\"API request failed with status {response.status_code}: {response.text}\")\n",
        "        print(f\"Error: API returned status {response.status_code}: {response.text}\")\n",
        "\n",
        "except Exception as e:\n",
        "    logger.error(f\"Error in API test: {str(e)}\")\n",
        "    print(f\"Error in API test: {str(e)}\")"
      ],
      "metadata": {
        "colab": {
          "base_uri": "https://localhost:8080/"
        },
        "id": "JNxTaLyT3AoH",
        "outputId": "09d2a8d8-703a-4fda-f7fa-21332c2fd6a8"
      },
      "execution_count": 1,
      "outputs": [
        {
          "output_type": "stream",
          "name": "stderr",
          "text": [
            "ERROR:__main__:Error in API test: name 'public_url' is not defined\n"
          ]
        },
        {
          "output_type": "stream",
          "name": "stdout",
          "text": [
            "Error in API test: name 'public_url' is not defined\n"
          ]
        }
      ]
    },
    {
      "cell_type": "markdown",
      "source": [],
      "metadata": {
        "id": "3tufgeS3BVgh"
      }
    }
  ],
  "metadata": {
    "colab": {
      "provenance": []
    },
    "kernelspec": {
      "display_name": "Python 3",
      "name": "python3"
    }
  },
  "nbformat": 4,
  "nbformat_minor": 0
}